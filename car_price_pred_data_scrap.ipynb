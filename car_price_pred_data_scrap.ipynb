{
 "cells": [
  {
   "cell_type": "code",
   "execution_count": null,
   "id": "2e4e105d",
   "metadata": {},
   "outputs": [],
   "source": [
    "import selenium\n",
    "import pandas as pd\n",
    "import time\n",
    "from selenium import webdriver\n",
    "from selenium.common.exceptions import NoSuchElementException\n",
    "import re"
   ]
  },
  {
   "cell_type": "code",
   "execution_count": null,
   "id": "7e1f4fbf",
   "metadata": {},
   "outputs": [],
   "source": [
    "driver = webdriver.Chrome(r'chromedriver.exe')"
   ]
  },
  {
   "cell_type": "code",
   "execution_count": null,
   "id": "2d6bedba",
   "metadata": {},
   "outputs": [],
   "source": [
    "driver.get('https://www.olx.in/')\n",
    "\n",
    "search_box = driver.find_element_by_xpath(\"/html/body/div[1]/div/header/div/div/div[2]/div/div/div[2]/div/form/fieldset/div/input\")\n",
    "search_box.send_keys(\"cars\")\n",
    "\n",
    "s_button = driver.find_element_by_xpath(\"//div[@class='_3b3oR']\")\n",
    "s_button.click()"
   ]
  },
  {
   "cell_type": "code",
   "execution_count": null,
   "id": "6a18672f",
   "metadata": {},
   "outputs": [],
   "source": [
    "for btn in range (0,209):\n",
    "    try :\n",
    "        btn = driver.find_element_by_xpath(\"//button[@class='rui-39-wj rui-3evoE rui-1JPTg']\")\n",
    "        driver.maximize_window() # For maximizing window\n",
    "        driver.implicitly_wait(20) # gives an implicit wait for 20 seconds\n",
    "        btn.click()\n",
    "    except NoSuchElementException as e:\n",
    "        btn.append(\"-\")"
   ]
  },
  {
   "cell_type": "code",
   "execution_count": null,
   "id": "547cf606",
   "metadata": {},
   "outputs": [],
   "source": [
    "car_url = driver.find_elements_by_xpath(\"//li[@class='EIR5N']/a\")\n",
    "url=[]\n",
    "car_name=[]\n",
    "for i in car_url:\n",
    "    url.append(i.get_attribute('href'))"
   ]
  },
  {
   "cell_type": "code",
   "execution_count": null,
   "id": "07b8f86f",
   "metadata": {},
   "outputs": [],
   "source": [
    "len(url)"
   ]
  },
  {
   "cell_type": "code",
   "execution_count": null,
   "id": "c6cb9109",
   "metadata": {},
   "outputs": [],
   "source": [
    "for url1 in url:#loop for every car in the list\n",
    "    driver.get(url1)\n",
    "    try:   \n",
    "        name = driver.find_elements_by_xpath(\"//section[@class='_2wMiF']/h1\")\n",
    "        for i in name:\n",
    "            car_name.append(i.text)    \n",
    "    except NoSuchElementException as e:\n",
    "        car_name.append(\"-\")"
   ]
  },
  {
   "cell_type": "code",
   "execution_count": null,
   "id": "f8271e23",
   "metadata": {},
   "outputs": [],
   "source": [
    "car_price=[]\n",
    "for url1 in url:#loop for every car in the list\n",
    "    driver.get(url1)\n",
    "    try:   \n",
    "        price = driver.find_elements_by_xpath(\"//section[@class='_2wMiF']/span\")\n",
    "        for i in price:\n",
    "            car_price.append(i.text)    \n",
    "    except NoSuchElementException as e:\n",
    "        car_price.append(\"-\")"
   ]
  },
  {
   "cell_type": "code",
   "execution_count": null,
   "id": "c2ac0094",
   "metadata": {},
   "outputs": [],
   "source": [
    "car_location=[]\n",
    "for url1 in url:#loop for every car in the list\n",
    "    driver.get(url1)\n",
    "    try:   \n",
    "        loca = driver.find_elements_by_xpath(\"//div[@class='_1uzVV']\")\n",
    "        for i in loca:\n",
    "            car_location.append(i.text)    \n",
    "    except NoSuchElementException as e:\n",
    "        car_location.append(\"-\")"
   ]
  },
  {
   "cell_type": "code",
   "execution_count": null,
   "id": "7911f042",
   "metadata": {},
   "outputs": [],
   "source": [
    "car_brand=[]\n",
    "for url1 in url:#loop for every car in the list\n",
    "    driver.get(url1)\n",
    "    try:   \n",
    "        brand = driver.find_elements_by_xpath(\"//div[@class='_3_knn']/div/span[2]\")\n",
    "        for i in brand:\n",
    "            car_brand.append(i.text)    \n",
    "    except NoSuchElementException as e:\n",
    "        car_brand.append(\"-\")"
   ]
  },
  {
   "cell_type": "code",
   "execution_count": null,
   "id": "54f4dbf2",
   "metadata": {},
   "outputs": [],
   "source": [
    "car_model=[]\n",
    "for url1 in url:#loop for every car in the list\n",
    "    driver.get(url1)\n",
    "    try:   \n",
    "        model = driver.find_elements_by_xpath(\"//div[@class='_3JPEe']/div[2]/div/span[2]\")\n",
    "        for i in model:\n",
    "            car_model.append(i.text)    \n",
    "    except NoSuchElementException as e:\n",
    "        car_model.append(\"-\")"
   ]
  },
  {
   "cell_type": "code",
   "execution_count": null,
   "id": "18b13c9b",
   "metadata": {},
   "outputs": [],
   "source": [
    "car_variant=[]\n",
    "for url1 in url:#loop for every car in the list\n",
    "    driver.get(url1)\n",
    "    try:   \n",
    "        variant = driver.find_elements_by_xpath(\"//div[@class='_3JPEe']/div[3]/div/span[2]\")\n",
    "        for i in variant:\n",
    "            car_variant.append(i.text)    \n",
    "    except NoSuchElementException as e:\n",
    "        car_variant.append(\"-\")"
   ]
  },
  {
   "cell_type": "code",
   "execution_count": null,
   "id": "497c8494",
   "metadata": {},
   "outputs": [],
   "source": [
    "car_year=[]\n",
    "for url1 in url:#loop for every car in the list\n",
    "    driver.get(url1)\n",
    "    try:   \n",
    "        year = driver.find_elements_by_xpath(\"//div[@class='_3JPEe']/div[4]/div/span[2]\")\n",
    "        for i in year:\n",
    "            car_year.append(i.text)    \n",
    "    except NoSuchElementException as e:\n",
    "        car_year.append(\"-\")"
   ]
  },
  {
   "cell_type": "code",
   "execution_count": null,
   "id": "644cc69e",
   "metadata": {},
   "outputs": [],
   "source": [
    "car_fuel=[]\n",
    "for url1 in url:#loop for every car in the list\n",
    "    driver.get(url1)\n",
    "    try:   \n",
    "        fuel = driver.find_elements_by_xpath(\"//div[@class='_3JPEe']/div[5]/div/span[2]\")\n",
    "        for i in fuel:\n",
    "            car_fuel.append(i.text)    \n",
    "    except NoSuchElementException as e:\n",
    "        car_fuel.append(\"-\")"
   ]
  },
  {
   "cell_type": "code",
   "execution_count": null,
   "id": "12097669",
   "metadata": {},
   "outputs": [],
   "source": [
    "car_trans=[]\n",
    "for url1 in url:#loop for every car in the list\n",
    "    driver.get(url1)\n",
    "    try:   \n",
    "        transmission = driver.find_elements_by_xpath(\"//div[@class='_3JPEe']/div[6]/div/span[2]\")\n",
    "        for i in transmission:\n",
    "            car_trans.append(i.text)    \n",
    "    except NoSuchElementException as e:\n",
    "        car_trans.append(\"-\")"
   ]
  },
  {
   "cell_type": "code",
   "execution_count": null,
   "id": "bb8edcbb",
   "metadata": {},
   "outputs": [],
   "source": [
    "car_KM=[]\n",
    "for url1 in url:#loop for every car in the list\n",
    "    driver.get(url1)\n",
    "    try:   \n",
    "        KM = driver.find_elements_by_xpath(\"//div[@class='_3JPEe']/div[7]/div/span[2]\")\n",
    "        for i in KM:\n",
    "            car_KM.append(i.text)    \n",
    "    except NoSuchElementException as e:\n",
    "        car_KM.append(\"-\")"
   ]
  },
  {
   "cell_type": "code",
   "execution_count": null,
   "id": "ab82313f",
   "metadata": {},
   "outputs": [],
   "source": [
    "car_owner=[]\n",
    "for url1 in url:#loop for every car in the list\n",
    "    driver.get(url1)\n",
    "    try:   \n",
    "        owner = driver.find_elements_by_xpath(\"//div[@class='_3JPEe']/div[8]/div/span[2]\")\n",
    "        for i in owner:\n",
    "            car_owner.append(i.text)    \n",
    "    except NoSuchElementException as e:\n",
    "        car_owner.append(\"-\")"
   ]
  },
  {
   "cell_type": "code",
   "execution_count": null,
   "id": "cb7483c9",
   "metadata": {},
   "outputs": [],
   "source": [
    "print(len(car_owner))\n",
    "print(len(car_fuel))\n",
    "print(len(car_brand))\n",
    "print(len(car_KM))\n",
    "print(len(car_location))\n",
    "print(len(car_model))\n",
    "print(len(car_name))\n",
    "print(len(car_price))\n",
    "print(len(car_trans))"
   ]
  },
  {
   "cell_type": "code",
   "execution_count": null,
   "id": "aeb25bec",
   "metadata": {},
   "outputs": [],
   "source": [
    "cardetail1=pd.DataFrame({'Owner':car_owner[:385],\n",
    "                'fuel type':car_fuel[:385],\n",
    "                'Price':car_price[:385],\n",
    "                'Name':car_name[:385],\n",
    "                'K/M':car_KM[:385],\n",
    "                'Brand':car_brand[:385],\n",
    "                'Location':car_location[:385],\n",
    "                'trans':car_trans[:385],\n",
    "                'Model':car_model[:385]})"
   ]
  },
  {
   "cell_type": "code",
   "execution_count": null,
   "id": "88ab5599",
   "metadata": {},
   "outputs": [],
   "source": [
    "cardetail1.to_csv(\"cardetail1.csv\")"
   ]
  },
  {
   "cell_type": "code",
   "execution_count": null,
   "id": "7131dcdc",
   "metadata": {},
   "outputs": [],
   "source": [
    "car_url = driver.find_elements_by_xpath(\"//li[@class='EIR5N']/a\")\n",
    "url=[]\n",
    "car_name=[]\n",
    "for i in car_url:\n",
    "    url.append(i.get_attribute('href'))"
   ]
  },
  {
   "cell_type": "code",
   "execution_count": null,
   "id": "73ce18df",
   "metadata": {},
   "outputs": [],
   "source": []
  },
  {
   "cell_type": "code",
   "execution_count": null,
   "id": "e94df41a",
   "metadata": {},
   "outputs": [],
   "source": [
    "driver1 = webdriver.Chrome(r'chromedriver.exe')"
   ]
  },
  {
   "cell_type": "code",
   "execution_count": null,
   "id": "2813fc76",
   "metadata": {},
   "outputs": [],
   "source": [
    "driver1.get(\"https://www.cars24.com/buy-used-cars/?utm_source=Google&utm_medium=CPC&utm_campaign=buycarsitelink&utm_source=google&utm_medium=adwords&utm_keyword=cars24&utm_matchtype=e&utm_device=c&adgroup_id=123666548619&campaign_id=1821263957&gclid=Cj0KCQjwvO2IBhCzARIsALw3ASpkRuhmwPPkoB4aywwimqlKxFt7TNsqrI1dw_t2A0ea0f1pBi6945EaAiYiEALw_wcB&gclid=Cj0KCQjwvO2IBhCzARIsALw3ASpkRuhmwPPkoB4aywwimqlKxFt7TNsqrI1dw_t2A0ea0f1pBi6945EaAiYiEALw_wcB\")"
   ]
  },
  {
   "cell_type": "code",
   "execution_count": null,
   "id": "f1313504",
   "metadata": {},
   "outputs": [],
   "source": [
    "close_btn = driver1.find_element_by_xpath(\"//div[@class='float-right TBxAN']\")\n",
    "close_btn.click()"
   ]
  },
  {
   "cell_type": "code",
   "execution_count": null,
   "id": "67553fd3",
   "metadata": {},
   "outputs": [],
   "source": [
    "view_car = driver1.find_element_by_xpath(\"//div[@class='_3tB_u']/button\")\n",
    "view_car.click()"
   ]
  },
  {
   "cell_type": "code",
   "execution_count": null,
   "id": "296fd865",
   "metadata": {},
   "outputs": [],
   "source": [
    "car_url1 = driver1.find_elements_by_xpath(\"//div[@class='col-4']/a\")\n",
    "url1=[]\n",
    "for a in car_url1:\n",
    "    url1.append(a.get_attribute('href'))"
   ]
  },
  {
   "cell_type": "code",
   "execution_count": null,
   "id": "d50f9c8f",
   "metadata": {},
   "outputs": [],
   "source": [
    "len(url1)"
   ]
  },
  {
   "cell_type": "code",
   "execution_count": null,
   "id": "b6d626b2",
   "metadata": {},
   "outputs": [],
   "source": [
    "#DELHI\n",
    "cname=[]\n",
    "cprice=[]\n",
    "cfuel =[]\n",
    "cyear=[]\n",
    "cowner=[]\n",
    "ctrans=[]\n",
    "ckm=[]\n",
    "for url2 in url1[500:]:#loop for every car in the list\n",
    "    driver1.get(url2)\n",
    "    try:   \n",
    "        name = driver1.find_elements_by_xpath(\"//div[@class='_1gE-r']/h1\")\n",
    "        for b in name:\n",
    "            cname.append(b.text)    \n",
    "    except NoSuchElementException as e:\n",
    "        cname.append(\"-\")\n",
    "        \n",
    "    try :\n",
    "        price = driver1.find_elements_by_xpath(\"//div[@class='text-right _1Bt4U']/strong\")\n",
    "        for c in price:\n",
    "            cprice.append(c.text)\n",
    "    except NoSuchElementException as e:\n",
    "        cprice.append(\"-\")\n",
    "        \n",
    "    try :\n",
    "        fuel = driver1.find_elements_by_xpath(\"//ul[@class='_2KO13']/li[4]/strong\")\n",
    "        for d in fuel:\n",
    "            cfuel.append(d.text)\n",
    "    except NoSuchElementException as e:\n",
    "        cfuel.append(\"-\")\n",
    "        \n",
    "    try :\n",
    "        year = driver1.find_elements_by_xpath(\"//ul[@class='_2KO13']/li[9]/strong\")\n",
    "        for f in year:\n",
    "            cyear.append(f.text)\n",
    "    except NoSuchElementException as e:\n",
    "        cyear.append(\"-\")\n",
    "        \n",
    "    try :\n",
    "        owner = driver1.find_elements_by_xpath(\"//ul[@class='_2KO13']/li[2]/strong\")\n",
    "        for g in owner:\n",
    "            cowner.append(g.text)\n",
    "    except NoSuchElementException as e:\n",
    "        cowner.append(\"-\")\n",
    "        \n",
    "    try :\n",
    "        trans = driver1.find_elements_by_xpath(\"//ul[@class='_2KO13']/li[6]/strong\")\n",
    "        for h in trans:\n",
    "            ctrans.append(h.text)\n",
    "    except NoSuchElementException as e:\n",
    "        ctrans.append(\"-\")\n",
    "        \n",
    "    try :\n",
    "        km = driver1.find_elements_by_xpath(\"//ul[@class='_2KO13']/li[6]/strong\")\n",
    "        for j in km:\n",
    "            ckm.append(j.text)\n",
    "    except NoSuchElementException as e:\n",
    "        ckm.append(\"-\")"
   ]
  },
  {
   "cell_type": "code",
   "execution_count": null,
   "id": "47fa9ff1",
   "metadata": {},
   "outputs": [],
   "source": [
    "print(len(cname))\n",
    "print(len(cprice))\n",
    "print(len(cfuel))\n",
    "print(len(cyear))\n",
    "print(len(cowner))\n",
    "print(len(ctrans))\n",
    "print(len(ckm))"
   ]
  },
  {
   "cell_type": "code",
   "execution_count": null,
   "id": "4f4d911e",
   "metadata": {},
   "outputs": [],
   "source": [
    "cardetail2=pd.DataFrame({'Owner':cowner,\n",
    "                'fuel type':cfuel,\n",
    "                'Price':cprice,\n",
    "                'Name':cname,\n",
    "                'K/M':ckm,\n",
    "                'trans':ctrans})\n",
    "\n",
    "cardetail2.to_csv(\"cardetail2.csv\")"
   ]
  },
  {
   "cell_type": "code",
   "execution_count": null,
   "id": "cd1926df",
   "metadata": {},
   "outputs": [],
   "source": [
    "#MUMBAI\n",
    "driver1.get('https://www.cars24.com/buy-used-cars-mumbai/')"
   ]
  },
  {
   "cell_type": "code",
   "execution_count": null,
   "id": "aaeda129",
   "metadata": {},
   "outputs": [],
   "source": [
    "car_url2 = driver1.find_elements_by_xpath(\"//div[@class='col-4']/a\")\n",
    "url3=[]\n",
    "for aa in car_url2:\n",
    "    url3.append(aa.get_attribute('href'))"
   ]
  },
  {
   "cell_type": "code",
   "execution_count": null,
   "id": "49f7a342",
   "metadata": {},
   "outputs": [],
   "source": [
    "len(url3)"
   ]
  },
  {
   "cell_type": "code",
   "execution_count": null,
   "id": "aae1a3d5",
   "metadata": {},
   "outputs": [],
   "source": [
    "cname1=[]\n",
    "cprice1=[]\n",
    "cfuel1 =[]\n",
    "cyear1=[]\n",
    "cowner1=[]\n",
    "ctrans1=[]\n",
    "ckm1=[]\n",
    "for url21 in url3:#loop for every car in the list\n",
    "    driver1.get(url21)\n",
    "    try:   \n",
    "        name = driver1.find_elements_by_xpath(\"//div[@class='_1gE-r']/h1\")\n",
    "        for ba in name:\n",
    "            cname1.append(ba.text)    \n",
    "    except NoSuchElementException as e:\n",
    "        cname1.append(\"-\")\n",
    "        \n",
    "    try :\n",
    "        price = driver1.find_elements_by_xpath(\"//div[@class='text-right _1Bt4U']/strong\")\n",
    "        for ca in price:\n",
    "            cprice1.append(ca.text)\n",
    "    except NoSuchElementException as e:\n",
    "        cprice1.append(\"-\")\n",
    "        \n",
    "    try :\n",
    "        fuel = driver1.find_elements_by_xpath(\"//ul[@class='_2KO13']/li[4]/strong\")\n",
    "        for da in fuel:\n",
    "            cfuel1.append(da.text)\n",
    "    except NoSuchElementException as e:\n",
    "        cfuel1.append(\"-\")\n",
    "        \n",
    "    try :\n",
    "        year = driver1.find_elements_by_xpath(\"//ul[@class='_2KO13']/li[9]/strong\")\n",
    "        for fa in year:\n",
    "            cyear1.append(fa.text)\n",
    "    except NoSuchElementException as e:\n",
    "        cyear1.append(\"-\")\n",
    "        \n",
    "    try :\n",
    "        owner = driver1.find_elements_by_xpath(\"//ul[@class='_2KO13']/li[2]/strong\")\n",
    "        for ga in owner:\n",
    "            cowner1.append(ga.text)\n",
    "    except NoSuchElementException as e:\n",
    "        cowner1.append(\"-\")\n",
    "        \n",
    "    try :\n",
    "        trans = driver1.find_elements_by_xpath(\"//ul[@class='_2KO13']/li[6]/strong\")\n",
    "        for ha in trans:\n",
    "            ctrans1.append(ha.text)\n",
    "    except NoSuchElementException as e:\n",
    "        ctrans1.append(\"-\")\n",
    "        \n",
    "    try :\n",
    "        km = driver1.find_elements_by_xpath(\"//ul[@class='_2KO13']/li[6]/strong\")\n",
    "        for ja in km:\n",
    "            ckm1.append(ja.text)\n",
    "    except NoSuchElementException as e:\n",
    "        ckm1.append(\"-\")"
   ]
  },
  {
   "cell_type": "code",
   "execution_count": null,
   "id": "bd52367d",
   "metadata": {},
   "outputs": [],
   "source": [
    "print(len(cname1))\n",
    "print(len(cprice1))\n",
    "print(len(cfuel1))\n",
    "print(len(cyear1))\n",
    "print(len(cowner1))\n",
    "print(len(ctrans1))\n",
    "print(len(ckm1))"
   ]
  },
  {
   "cell_type": "code",
   "execution_count": null,
   "id": "1291b633",
   "metadata": {},
   "outputs": [],
   "source": [
    "cardetail3=pd.DataFrame({'Owner':cowner1,\n",
    "                'fuel type':cfuel1,\n",
    "                'Price':cprice1,\n",
    "                'Name':cname1,\n",
    "                'K/M':ckm1,\n",
    "                'trans':ctrans1})\n",
    "\n",
    "cardetail3.to_csv(\"cardetail3.csv\")"
   ]
  },
  {
   "cell_type": "code",
   "execution_count": null,
   "id": "c8739e50",
   "metadata": {},
   "outputs": [],
   "source": [
    "#Pune\n",
    "driver1.get('https://www.cars24.com/buy-used-car?sort=P&storeCityId=2423&pinId=411001')"
   ]
  },
  {
   "cell_type": "code",
   "execution_count": null,
   "id": "f9f5cd3c",
   "metadata": {},
   "outputs": [],
   "source": [
    "car_url3 = driver1.find_elements_by_xpath(\"//div[@class='col-4']/a\")\n",
    "url4=[]\n",
    "for ab in car_url3:\n",
    "    url4.append(ab.get_attribute('href'))"
   ]
  },
  {
   "cell_type": "code",
   "execution_count": null,
   "id": "342e9bde",
   "metadata": {},
   "outputs": [],
   "source": [
    "len(url4)"
   ]
  },
  {
   "cell_type": "code",
   "execution_count": null,
   "id": "6ee86c02",
   "metadata": {},
   "outputs": [],
   "source": [
    "cname2=[]\n",
    "cprice2=[]\n",
    "cfuel2=[]\n",
    "cyear2=[]\n",
    "cowner2=[]\n",
    "ctrans2=[]\n",
    "ckm2=[]\n",
    "for url22 in url4:#loop for every car in the list\n",
    "    driver1.get(url22)\n",
    "    try:   \n",
    "        name = driver1.find_elements_by_xpath(\"//div[@class='_1gE-r']/h1\")\n",
    "        for bb in name:\n",
    "            cname2.append(bb.text)    \n",
    "    except NoSuchElementException as e:\n",
    "        cname2.append(\"-\")\n",
    "        \n",
    "    try :\n",
    "        price = driver1.find_elements_by_xpath(\"//div[@class='text-right _1Bt4U']/strong\")\n",
    "        for cb in price:\n",
    "            cprice2.append(cb.text)\n",
    "    except NoSuchElementException as e:\n",
    "        cprice2.append(\"-\")\n",
    "        \n",
    "    try :\n",
    "        fuel = driver1.find_elements_by_xpath(\"//ul[@class='_2KO13']/li[4]/strong\")\n",
    "        for db in fuel:\n",
    "            cfuel2.append(db.text)\n",
    "    except NoSuchElementException as e:\n",
    "        cfuel2.append(\"-\")\n",
    "        \n",
    "    try :\n",
    "        year = driver1.find_elements_by_xpath(\"//ul[@class='_2KO13']/li[9]/strong\")\n",
    "        for fb in year:\n",
    "            cyear2.append(fb.text)\n",
    "    except NoSuchElementException as e:\n",
    "        cyear2.append(\"-\")\n",
    "        \n",
    "    try :\n",
    "        owner = driver1.find_elements_by_xpath(\"//ul[@class='_2KO13']/li[2]/strong\")\n",
    "        for gb in owner:\n",
    "            cowner2.append(gb.text)\n",
    "    except NoSuchElementException as e:\n",
    "        cowner2.append(\"-\")\n",
    "        \n",
    "    try :\n",
    "        trans = driver1.find_elements_by_xpath(\"//ul[@class='_2KO13']/li[6]/strong\")\n",
    "        for hb in trans:\n",
    "            ctrans2.append(hb.text)\n",
    "    except NoSuchElementException as e:\n",
    "        ctrans2.append(\"-\")\n",
    "        \n",
    "    try :\n",
    "        km = driver1.find_elements_by_xpath(\"//ul[@class='_2KO13']/li[6]/strong\")\n",
    "        for jb in km:\n",
    "            ckm2.append(jb.text)\n",
    "    except NoSuchElementException as e:\n",
    "        ckm2.append(\"-\")"
   ]
  },
  {
   "cell_type": "code",
   "execution_count": null,
   "id": "22b986e7",
   "metadata": {},
   "outputs": [],
   "source": [
    "print(len(cname2))\n",
    "print(len(cprice2))\n",
    "print(len(cfuel2))\n",
    "print(len(cyear2))\n",
    "print(len(cowner2))\n",
    "print(len(ctrans2))\n",
    "print(len(ckm2))"
   ]
  },
  {
   "cell_type": "code",
   "execution_count": null,
   "id": "2f9b3227",
   "metadata": {},
   "outputs": [],
   "source": [
    "cardetail4=pd.DataFrame({'Owner':cowner2,\n",
    "                'fuel type':cfuel2,\n",
    "                'Price':cprice2,\n",
    "                'Name':cname2,\n",
    "                'K/M':ckm2,\n",
    "                'trans':ctrans2})\n",
    "\n",
    "cardetail4.to_csv(\"cardetail4.csv\")"
   ]
  },
  {
   "cell_type": "code",
   "execution_count": null,
   "id": "96a8efc1",
   "metadata": {},
   "outputs": [],
   "source": [
    "#Banglore\n",
    "driver2 = webdriver.Chrome(r'chromedriver.exe')\n",
    "driver2.get('https://www.cars24.com/buy-used-car?sort=P&storeCityId=4709&pinId=560001')"
   ]
  },
  {
   "cell_type": "code",
   "execution_count": null,
   "id": "87098990",
   "metadata": {},
   "outputs": [],
   "source": [
    "carbag = driver2.find_elements_by_xpath(\"//div[@class='col-4']/a\")\n",
    "urlb=[]\n",
    "for ac in carbag:\n",
    "    urlb.append(ac.get_attribute('href'))"
   ]
  },
  {
   "cell_type": "code",
   "execution_count": null,
   "id": "c9773a7b",
   "metadata": {},
   "outputs": [],
   "source": [
    "len(urlb)"
   ]
  },
  {
   "cell_type": "code",
   "execution_count": null,
   "id": "291dbe23",
   "metadata": {},
   "outputs": [],
   "source": [
    "cname3=[]\n",
    "cprice3=[]\n",
    "cfuel3=[]\n",
    "cyear3=[]\n",
    "cowner3=[]\n",
    "ctrans3=[]\n",
    "ckm3=[]\n",
    "for url5 in urlb:#loop for every car in the list\n",
    "    driver2.get(url5)\n",
    "    try:   \n",
    "        name = driver2.find_elements_by_xpath(\"//div[@class='_1gE-r']/h1\")\n",
    "        for bc in name:\n",
    "            cname3.append(bc.text)    \n",
    "    except NoSuchElementException as e:\n",
    "        cname3.append(\"-\")\n",
    "        \n",
    "    try :\n",
    "        price = driver2.find_elements_by_xpath(\"//div[@class='text-right _1Bt4U']/strong\")\n",
    "        for cc in price:\n",
    "            cprice3.append(cc.text)\n",
    "    except NoSuchElementException as e:\n",
    "        cprice3.append(\"-\")\n",
    "        \n",
    "    try :\n",
    "        fuel = driver2.find_elements_by_xpath(\"//ul[@class='_2KO13']/li[4]/strong\")\n",
    "        for dc in fuel:\n",
    "            cfuel3.append(dc.text)\n",
    "    except NoSuchElementException as e:\n",
    "        cfuel3.append(\"-\")\n",
    "        \n",
    "    try :\n",
    "        year = driver2.find_elements_by_xpath(\"//ul[@class='_2KO13']/li[9]/strong\")\n",
    "        for fc in year:\n",
    "            cyear3.append(fc.text)\n",
    "    except NoSuchElementException as e:\n",
    "        cyear3.append(\"-\")\n",
    "        \n",
    "    try :\n",
    "        owner = driver2.find_elements_by_xpath(\"//ul[@class='_2KO13']/li[2]/strong\")\n",
    "        for gc in owner:\n",
    "            cowner3.append(gc.text)\n",
    "    except NoSuchElementException as e:\n",
    "        cowner3.append(\"-\")\n",
    "        \n",
    "    try :\n",
    "        trans = driver2.find_elements_by_xpath(\"//ul[@class='_2KO13']/li[6]/strong\")\n",
    "        for hc in trans:\n",
    "            ctrans3.append(hc.text)\n",
    "    except NoSuchElementException as e:\n",
    "        ctrans3.append(\"-\")\n",
    "        \n",
    "    try :\n",
    "        km = driver2.find_elements_by_xpath(\"//ul[@class='_2KO13']/li[6]/strong\")\n",
    "        for jc in km:\n",
    "            ckm3.append(jc.text)\n",
    "    except NoSuchElementException as e:\n",
    "        ckm3.append(\"-\")"
   ]
  },
  {
   "cell_type": "code",
   "execution_count": null,
   "id": "25a8aa9b",
   "metadata": {},
   "outputs": [],
   "source": [
    "print(len(cname3))\n",
    "print(len(cprice3))\n",
    "print(len(cfuel3))\n",
    "print(len(cyear3))\n",
    "print(len(cowner3))\n",
    "print(len(ctrans3))\n",
    "print(len(ckm3))"
   ]
  },
  {
   "cell_type": "code",
   "execution_count": null,
   "id": "e96dbe7e",
   "metadata": {},
   "outputs": [],
   "source": []
  }
 ],
 "metadata": {
  "kernelspec": {
   "display_name": "Python 3",
   "language": "python",
   "name": "python3"
  },
  "language_info": {
   "codemirror_mode": {
    "name": "ipython",
    "version": 3
   },
   "file_extension": ".py",
   "mimetype": "text/x-python",
   "name": "python",
   "nbconvert_exporter": "python",
   "pygments_lexer": "ipython3",
   "version": "3.8.3"
  }
 },
 "nbformat": 4,
 "nbformat_minor": 5
}
